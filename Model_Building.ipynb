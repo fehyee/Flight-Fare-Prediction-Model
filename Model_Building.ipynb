{
 "cells": [
  {
   "cell_type": "code",
   "execution_count": 1,
   "id": "103a90ba",
   "metadata": {},
   "outputs": [],
   "source": [
    "#IMPORTING THE NECESSARY LIBRARIES\n",
    "\n",
    "import numpy as np\n",
    "import pandas as pd\n",
    "import matplotlib.pyplot as plt\n",
    "import seaborn as sns"
   ]
  },
  {
   "cell_type": "code",
   "execution_count": 2,
   "id": "e9ae89a6",
   "metadata": {},
   "outputs": [],
   "source": [
    "raw_data = pd.read_csv('Ticket_data_preprocessed.csv')"
   ]
  },
  {
   "cell_type": "code",
   "execution_count": 3,
   "id": "61bc2cda",
   "metadata": {},
   "outputs": [
    {
     "data": {
      "text/html": [
       "<div>\n",
       "<style scoped>\n",
       "    .dataframe tbody tr th:only-of-type {\n",
       "        vertical-align: middle;\n",
       "    }\n",
       "\n",
       "    .dataframe tbody tr th {\n",
       "        vertical-align: top;\n",
       "    }\n",
       "\n",
       "    .dataframe thead th {\n",
       "        text-align: right;\n",
       "    }\n",
       "</style>\n",
       "<table border=\"1\" class=\"dataframe\">\n",
       "  <thead>\n",
       "    <tr style=\"text-align: right;\">\n",
       "      <th></th>\n",
       "      <th>Airline</th>\n",
       "      <th>Destination</th>\n",
       "      <th>Total_Stops</th>\n",
       "      <th>Price</th>\n",
       "      <th>Month of Journey</th>\n",
       "      <th>Day of Journey</th>\n",
       "      <th>Dep_Time_hour</th>\n",
       "      <th>Dep_Time_minutes</th>\n",
       "      <th>Arrival_Time_hour</th>\n",
       "      <th>Arrival_Time_minutes</th>\n",
       "      <th>duration_hours</th>\n",
       "      <th>duration_minutes</th>\n",
       "      <th>Source_Banglore</th>\n",
       "      <th>Source_Kolkata</th>\n",
       "      <th>Source_Delhi</th>\n",
       "      <th>Source_Chennai</th>\n",
       "      <th>Source_Mumbai</th>\n",
       "    </tr>\n",
       "  </thead>\n",
       "  <tbody>\n",
       "    <tr>\n",
       "      <th>0</th>\n",
       "      <td>3</td>\n",
       "      <td>2</td>\n",
       "      <td>0</td>\n",
       "      <td>3897.0</td>\n",
       "      <td>3</td>\n",
       "      <td>24</td>\n",
       "      <td>22</td>\n",
       "      <td>20</td>\n",
       "      <td>1</td>\n",
       "      <td>10</td>\n",
       "      <td>2</td>\n",
       "      <td>50</td>\n",
       "      <td>1</td>\n",
       "      <td>0</td>\n",
       "      <td>0</td>\n",
       "      <td>0</td>\n",
       "      <td>0</td>\n",
       "    </tr>\n",
       "    <tr>\n",
       "      <th>1</th>\n",
       "      <td>7</td>\n",
       "      <td>3</td>\n",
       "      <td>2</td>\n",
       "      <td>7662.0</td>\n",
       "      <td>1</td>\n",
       "      <td>5</td>\n",
       "      <td>5</td>\n",
       "      <td>50</td>\n",
       "      <td>13</td>\n",
       "      <td>15</td>\n",
       "      <td>7</td>\n",
       "      <td>25</td>\n",
       "      <td>0</td>\n",
       "      <td>1</td>\n",
       "      <td>0</td>\n",
       "      <td>0</td>\n",
       "      <td>0</td>\n",
       "    </tr>\n",
       "  </tbody>\n",
       "</table>\n",
       "</div>"
      ],
      "text/plain": [
       "   Airline  Destination  Total_Stops   Price  Month of Journey  \\\n",
       "0        3            2            0  3897.0                 3   \n",
       "1        7            3            2  7662.0                 1   \n",
       "\n",
       "   Day of Journey  Dep_Time_hour  Dep_Time_minutes  Arrival_Time_hour  \\\n",
       "0              24             22                20                  1   \n",
       "1               5              5                50                 13   \n",
       "\n",
       "   Arrival_Time_minutes  duration_hours  duration_minutes  Source_Banglore  \\\n",
       "0                    10               2                50                1   \n",
       "1                    15               7                25                0   \n",
       "\n",
       "   Source_Kolkata  Source_Delhi  Source_Chennai  Source_Mumbai  \n",
       "0               0             0               0              0  \n",
       "1               1             0               0              0  "
      ]
     },
     "execution_count": 3,
     "metadata": {},
     "output_type": "execute_result"
    }
   ],
   "source": [
    "raw_data.head(2)"
   ]
  },
  {
   "cell_type": "markdown",
   "id": "eb9b0e76",
   "metadata": {},
   "source": [
    "<h4> Feature Selection </h4>"
   ]
  },
  {
   "cell_type": "code",
   "execution_count": 4,
   "id": "3679404b",
   "metadata": {},
   "outputs": [],
   "source": [
    "from sklearn.feature_selection import mutual_info_regression"
   ]
  },
  {
   "cell_type": "code",
   "execution_count": 5,
   "id": "d1fe0387",
   "metadata": {},
   "outputs": [],
   "source": [
    "X = raw_data.drop(['Price'], axis = 1)"
   ]
  },
  {
   "cell_type": "code",
   "execution_count": 6,
   "id": "d6f41441",
   "metadata": {},
   "outputs": [],
   "source": [
    "y = raw_data['Price']"
   ]
  },
  {
   "cell_type": "code",
   "execution_count": 7,
   "id": "9b71c681",
   "metadata": {},
   "outputs": [],
   "source": [
    "features = pd.DataFrame(mutual_info_regression(X, y), index = X.columns)\n",
    "features.columns=['Importance']"
   ]
  },
  {
   "cell_type": "code",
   "execution_count": 8,
   "id": "380712aa",
   "metadata": {},
   "outputs": [
    {
     "data": {
      "text/html": [
       "<div>\n",
       "<style scoped>\n",
       "    .dataframe tbody tr th:only-of-type {\n",
       "        vertical-align: middle;\n",
       "    }\n",
       "\n",
       "    .dataframe tbody tr th {\n",
       "        vertical-align: top;\n",
       "    }\n",
       "\n",
       "    .dataframe thead th {\n",
       "        text-align: right;\n",
       "    }\n",
       "</style>\n",
       "<table border=\"1\" class=\"dataframe\">\n",
       "  <thead>\n",
       "    <tr style=\"text-align: right;\">\n",
       "      <th></th>\n",
       "      <th>Importance</th>\n",
       "    </tr>\n",
       "  </thead>\n",
       "  <tbody>\n",
       "    <tr>\n",
       "      <th>Destination</th>\n",
       "      <td>0.996886</td>\n",
       "    </tr>\n",
       "    <tr>\n",
       "      <th>Airline</th>\n",
       "      <td>0.982110</td>\n",
       "    </tr>\n",
       "    <tr>\n",
       "      <th>Total_Stops</th>\n",
       "      <td>0.792679</td>\n",
       "    </tr>\n",
       "    <tr>\n",
       "      <th>Source_Delhi</th>\n",
       "      <td>0.521859</td>\n",
       "    </tr>\n",
       "    <tr>\n",
       "      <th>duration_hours</th>\n",
       "      <td>0.459150</td>\n",
       "    </tr>\n",
       "    <tr>\n",
       "      <th>Source_Kolkata</th>\n",
       "      <td>0.455726</td>\n",
       "    </tr>\n",
       "    <tr>\n",
       "      <th>Arrival_Time_hour</th>\n",
       "      <td>0.400481</td>\n",
       "    </tr>\n",
       "    <tr>\n",
       "      <th>Source_Banglore</th>\n",
       "      <td>0.386583</td>\n",
       "    </tr>\n",
       "    <tr>\n",
       "      <th>Arrival_Time_minutes</th>\n",
       "      <td>0.348766</td>\n",
       "    </tr>\n",
       "    <tr>\n",
       "      <th>duration_minutes</th>\n",
       "      <td>0.341958</td>\n",
       "    </tr>\n",
       "    <tr>\n",
       "      <th>Dep_Time_hour</th>\n",
       "      <td>0.331760</td>\n",
       "    </tr>\n",
       "    <tr>\n",
       "      <th>Dep_Time_minutes</th>\n",
       "      <td>0.259617</td>\n",
       "    </tr>\n",
       "    <tr>\n",
       "      <th>Month of Journey</th>\n",
       "      <td>0.231596</td>\n",
       "    </tr>\n",
       "    <tr>\n",
       "      <th>Source_Mumbai</th>\n",
       "      <td>0.202566</td>\n",
       "    </tr>\n",
       "    <tr>\n",
       "      <th>Day of Journey</th>\n",
       "      <td>0.195984</td>\n",
       "    </tr>\n",
       "    <tr>\n",
       "      <th>Source_Chennai</th>\n",
       "      <td>0.130578</td>\n",
       "    </tr>\n",
       "  </tbody>\n",
       "</table>\n",
       "</div>"
      ],
      "text/plain": [
       "                      Importance\n",
       "Destination             0.996886\n",
       "Airline                 0.982110\n",
       "Total_Stops             0.792679\n",
       "Source_Delhi            0.521859\n",
       "duration_hours          0.459150\n",
       "Source_Kolkata          0.455726\n",
       "Arrival_Time_hour       0.400481\n",
       "Source_Banglore         0.386583\n",
       "Arrival_Time_minutes    0.348766\n",
       "duration_minutes        0.341958\n",
       "Dep_Time_hour           0.331760\n",
       "Dep_Time_minutes        0.259617\n",
       "Month of Journey        0.231596\n",
       "Source_Mumbai           0.202566\n",
       "Day of Journey          0.195984\n",
       "Source_Chennai          0.130578"
      ]
     },
     "execution_count": 8,
     "metadata": {},
     "output_type": "execute_result"
    }
   ],
   "source": [
    "features.sort_values(by='Importance', ascending=False)"
   ]
  },
  {
   "cell_type": "markdown",
   "id": "1c8e2130",
   "metadata": {},
   "source": [
    "<h4> Building the model </h4>"
   ]
  },
  {
   "cell_type": "code",
   "execution_count": 9,
   "id": "d09153f8",
   "metadata": {},
   "outputs": [],
   "source": [
    "from sklearn.model_selection import train_test_split"
   ]
  },
  {
   "cell_type": "code",
   "execution_count": 10,
   "id": "96037b8a",
   "metadata": {},
   "outputs": [],
   "source": [
    "X_train, X_test, y_train, y_test = train_test_split(X, y, test_size = 0.25, random_state = 22)"
   ]
  },
  {
   "cell_type": "code",
   "execution_count": 11,
   "id": "a5155dcf",
   "metadata": {},
   "outputs": [],
   "source": [
    "from sklearn.ensemble import RandomForestRegressor"
   ]
  },
  {
   "cell_type": "code",
   "execution_count": 12,
   "id": "ee60b348",
   "metadata": {},
   "outputs": [],
   "source": [
    "ml_model = RandomForestRegressor()"
   ]
  },
  {
   "cell_type": "code",
   "execution_count": 13,
   "id": "3eb85d7a",
   "metadata": {},
   "outputs": [],
   "source": [
    "#Fitting the model\n",
    "model = ml_model.fit(X_train, y_train)"
   ]
  },
  {
   "cell_type": "code",
   "execution_count": 14,
   "id": "0a3e79b9",
   "metadata": {},
   "outputs": [],
   "source": [
    "y_pred = model.predict(X_test)"
   ]
  },
  {
   "cell_type": "code",
   "execution_count": 15,
   "id": "88990b24",
   "metadata": {},
   "outputs": [
    {
     "data": {
      "text/plain": [
       "array([ 5451.511     , 10344.45      , 11887.23916667, ...,\n",
       "       12297.8975    , 10235.25      , 10019.9805    ])"
      ]
     },
     "execution_count": 15,
     "metadata": {},
     "output_type": "execute_result"
    }
   ],
   "source": [
    "y_pred"
   ]
  },
  {
   "cell_type": "code",
   "execution_count": 16,
   "id": "0e5317df",
   "metadata": {},
   "outputs": [
    {
     "data": {
      "text/plain": [
       "(2671,)"
      ]
     },
     "execution_count": 16,
     "metadata": {},
     "output_type": "execute_result"
    }
   ],
   "source": [
    "y_pred.shape"
   ]
  },
  {
   "cell_type": "code",
   "execution_count": 17,
   "id": "a397dffc",
   "metadata": {},
   "outputs": [
    {
     "data": {
      "text/plain": [
       "2671"
      ]
     },
     "execution_count": 17,
     "metadata": {},
     "output_type": "execute_result"
    }
   ],
   "source": [
    "len(X_test)"
   ]
  },
  {
   "cell_type": "markdown",
   "id": "53f18c4d",
   "metadata": {},
   "source": [
    "<h4> Saving the model </h4>"
   ]
  },
  {
   "cell_type": "code",
   "execution_count": 18,
   "id": "e5fe5015",
   "metadata": {},
   "outputs": [],
   "source": [
    "import pickle"
   ]
  },
  {
   "cell_type": "code",
   "execution_count": 19,
   "id": "8ec360aa",
   "metadata": {},
   "outputs": [],
   "source": [
    "file = open('rf_model.pkl', 'wb')"
   ]
  },
  {
   "cell_type": "code",
   "execution_count": 20,
   "id": "2021ed4a",
   "metadata": {},
   "outputs": [],
   "source": [
    "pickle.dump(model, file)"
   ]
  },
  {
   "cell_type": "code",
   "execution_count": 21,
   "id": "2e418943",
   "metadata": {},
   "outputs": [],
   "source": [
    "#Using the Saved model\n",
    "\n",
    "model = open('rf_model.pkl', 'rb')"
   ]
  },
  {
   "cell_type": "code",
   "execution_count": 22,
   "id": "2a9b43e8",
   "metadata": {},
   "outputs": [],
   "source": [
    "forest = pickle.load(model)"
   ]
  },
  {
   "cell_type": "code",
   "execution_count": 23,
   "id": "59d5b1a5",
   "metadata": {},
   "outputs": [
    {
     "data": {
      "text/plain": [
       "array([ 5451.511     , 10344.45      , 11887.23916667, ...,\n",
       "       12297.8975    , 10235.25      , 10019.9805    ])"
      ]
     },
     "execution_count": 23,
     "metadata": {},
     "output_type": "execute_result"
    }
   ],
   "source": [
    "forest.predict(X_test)"
   ]
  },
  {
   "cell_type": "markdown",
   "id": "97342711",
   "metadata": {},
   "source": [
    "<h4> Defining the Model's Evaluation Metrics </h4>\n",
    "\n",
    "Automating machine learning pipeline"
   ]
  },
  {
   "cell_type": "code",
   "execution_count": 24,
   "id": "3fa4b93c",
   "metadata": {},
   "outputs": [],
   "source": [
    "def predict(ml_model):\n",
    "    model = ml_model.fit(X_train, y_train)\n",
    "    print('Training Score: {}'.format(model.score(X_train, y_train)))\n",
    "    print('The predictions are: {}'.format(y_pred))\n",
    "    print('\\n')\n",
    "    \n",
    "    from sklearn import metrics\n",
    "    print('r2_score: {}'.format(metrics.r2_score(y_test, y_pred)))\n",
    "    print('MSE: {}'.format(metrics.mean_squared_error(y_test, y_pred)))\n",
    "    print('MAE: {}'.format(metrics.mean_absolute_error(y_test, y_pred)))\n",
    "    print('RMSE: {}'.format(np.sqrt(metrics.mean_squared_error(y_test, y_pred))))\n",
    "    print('MAPE: {}'.format(metrics.mean_absolute_percentage_error(y_test, y_pred)))\n",
    "    sns.displot(y_test-y_pred)"
   ]
  },
  {
   "cell_type": "code",
   "execution_count": 25,
   "id": "e6156b3d",
   "metadata": {},
   "outputs": [
    {
     "name": "stdout",
     "output_type": "stream",
     "text": [
      "Training Score: 0.952227977275415\n",
      "The predictions are: [ 5451.511      10344.45       11887.23916667 ... 12297.8975\n",
      " 10235.25       10019.9805    ]\n",
      "\n",
      "\n",
      "r2_score: 0.8166783696537518\n",
      "MSE: 3364471.0061384547\n",
      "MAE: 1180.9087681610165\n",
      "RMSE: 1834.2494394543112\n",
      "MAPE: 0.1330909879277825\n"
     ]
    },
    {
     "data": {
      "image/png": "[encoded data removed]",
      "text/plain": [
       "<Figure size 360x360 with 1 Axes>"
      ]
     },
     "metadata": {
      "needs_background": "light"
     },
     "output_type": "display_data"
    }
   ],
   "source": [
    "predict(ml_model)"
   ]
  },
  {
   "cell_type": "markdown",
   "id": "29f5b34f",
   "metadata": {},
   "source": [
    "From the analysis above, at most instances, the model is performing optimally."
   ]
  },
  {
   "cell_type": "markdown",
   "id": "7c16991e",
   "metadata": {},
   "source": [
    "<h4> Hyperparameter Tuning using RandomSearch CV </h4>"
   ]
  },
  {
   "cell_type": "code",
   "execution_count": 26,
   "id": "7739b407",
   "metadata": {},
   "outputs": [],
   "source": [
    "from sklearn.model_selection import RandomizedSearchCV"
   ]
  },
  {
   "cell_type": "code",
   "execution_count": 27,
   "id": "8652bd7b",
   "metadata": {},
   "outputs": [],
   "source": [
    "n_estimators = [int(x) for x in np.linspace(start=1000, stop=1200, num=6)]\n",
    "\n",
    "max_features = [\"auto\", 'sqrt']\n",
    "\n",
    "max_depth = [int(x) for x in np.linspace(start=5, stop=30, num=4)]\n",
    "\n",
    "min_samples_split = [5, 10, 15, 100]"
   ]
  },
  {
   "cell_type": "code",
   "execution_count": 28,
   "id": "cbd9e1df",
   "metadata": {},
   "outputs": [],
   "source": [
    "random_grid = {\n",
    "    'n_estimators':n_estimators,\n",
    "    'max_features':max_features,\n",
    "    'max_depth':max_depth,\n",
    "    'min_samples_split':min_samples_split\n",
    "}"
   ]
  },
  {
   "cell_type": "code",
   "execution_count": 29,
   "id": "1e84a44f",
   "metadata": {},
   "outputs": [],
   "source": [
    "rf_Random = RandomizedSearchCV(ml_model, param_distributions=random_grid, cv=3, verbose=2, n_jobs=-1)"
   ]
  },
  {
   "cell_type": "code",
   "execution_count": 30,
   "id": "b8bf69c3",
   "metadata": {
    "scrolled": true
   },
   "outputs": [
    {
     "name": "stdout",
     "output_type": "stream",
     "text": [
      "Fitting 3 folds for each of 10 candidates, totalling 30 fits\n"
     ]
    }
   ],
   "source": [
    "tuned_model=rf_Random.fit(X_train, y_train)"
   ]
  },
  {
   "cell_type": "code",
   "execution_count": 31,
   "id": "51412a39",
   "metadata": {},
   "outputs": [
    {
     "data": {
      "text/plain": [
       "RandomizedSearchCV(cv=3, estimator=RandomForestRegressor(), n_jobs=-1,\n",
       "                   param_distributions={'max_depth': [5, 13, 21, 30],\n",
       "                                        'max_features': ['auto', 'sqrt'],\n",
       "                                        'min_samples_split': [5, 10, 15, 100],\n",
       "                                        'n_estimators': [1000, 1040, 1080, 1120,\n",
       "                                                         1160, 1200]},\n",
       "                   verbose=2)"
      ]
     },
     "execution_count": 31,
     "metadata": {},
     "output_type": "execute_result"
    }
   ],
   "source": [
    "tuned_model"
   ]
  },
  {
   "cell_type": "code",
   "execution_count": 32,
   "id": "389ae171",
   "metadata": {},
   "outputs": [
    {
     "data": {
      "text/plain": [
       "{'n_estimators': 1080,\n",
       " 'min_samples_split': 10,\n",
       " 'max_features': 'auto',\n",
       " 'max_depth': 13}"
      ]
     },
     "execution_count": 32,
     "metadata": {},
     "output_type": "execute_result"
    }
   ],
   "source": [
    "tuned_model.best_params_"
   ]
  },
  {
   "cell_type": "code",
   "execution_count": 33,
   "id": "dc4bbe43",
   "metadata": {},
   "outputs": [
    {
     "data": {
      "text/plain": [
       "array([ 4985.87274386, 10355.80882233, 13076.79352713, ...,\n",
       "       12481.13908773, 10516.83210197, 10935.35752279])"
      ]
     },
     "execution_count": 33,
     "metadata": {},
     "output_type": "execute_result"
    }
   ],
   "source": [
    "pred2=rf_Random.predict(X_test)\n",
    "pred2"
   ]
  },
  {
   "cell_type": "code",
   "execution_count": 34,
   "id": "ff203cb4",
   "metadata": {},
   "outputs": [
    {
     "data": {
      "text/plain": [
       "0.8466541465854103"
      ]
     },
     "execution_count": 34,
     "metadata": {},
     "output_type": "execute_result"
    }
   ],
   "source": [
    "from sklearn import metrics\n",
    "metrics.r2_score(y_test,pred2)"
   ]
  },
  {
   "cell_type": "markdown",
   "id": "932951c2",
   "metadata": {},
   "source": [
    "<h4> Saving the tuned model </h4>"
   ]
  },
  {
   "cell_type": "code",
   "execution_count": 35,
   "id": "8ce30698",
   "metadata": {},
   "outputs": [],
   "source": [
    "import pickle"
   ]
  },
  {
   "cell_type": "code",
   "execution_count": 36,
   "id": "67e90454",
   "metadata": {},
   "outputs": [],
   "source": [
    "file = open('tuned_model.pkl', 'wb')"
   ]
  },
  {
   "cell_type": "code",
   "execution_count": 37,
   "id": "923f5f2f",
   "metadata": {},
   "outputs": [],
   "source": [
    "pickle.dump(tuned_model, file)"
   ]
  },
  {
   "cell_type": "code",
   "execution_count": 38,
   "id": "ad1e3c7b",
   "metadata": {},
   "outputs": [],
   "source": [
    "#Using the Saved model\n",
    "\n",
    "model = open('tuned_model.pkl', 'rb')"
   ]
  },
  {
   "cell_type": "code",
   "execution_count": 39,
   "id": "7ad13a7f",
   "metadata": {},
   "outputs": [],
   "source": [
    "tuned = pickle.load(model)"
   ]
  },
  {
   "cell_type": "code",
   "execution_count": 40,
   "id": "3a06cb1c",
   "metadata": {},
   "outputs": [
    {
     "data": {
      "text/plain": [
       "array([ 4985.87274386, 10355.80882233, 13076.79352713, ...,\n",
       "       12481.13908773, 10516.83210197, 10935.35752279])"
      ]
     },
     "execution_count": 40,
     "metadata": {},
     "output_type": "execute_result"
    }
   ],
   "source": [
    "tuned.predict(X_test)"
   ]
  },
  {
   "cell_type": "code",
   "execution_count": null,
   "id": "24c19455",
   "metadata": {},
   "outputs": [],
   "source": []
  }
 ],
 "metadata": {
  "kernelspec": {
   "display_name": "Python 3 (ipykernel)",
   "language": "python",
   "name": "python3"
  },
  "language_info": {
   "codemirror_mode": {
    "name": "ipython",
    "version": 3
   },
   "file_extension": ".py",
   "mimetype": "text/x-python",
   "name": "python",
   "nbconvert_exporter": "python",
   "pygments_lexer": "ipython3",
   "version": "3.9.7"
  }
 },
 "nbformat": 4,
 "nbformat_minor": 5
}
